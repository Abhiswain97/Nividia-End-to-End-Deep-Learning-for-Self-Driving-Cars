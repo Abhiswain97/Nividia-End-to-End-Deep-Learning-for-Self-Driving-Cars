{
 "cells": [
  {
   "cell_type": "markdown",
   "id": "92f334ff-3704-4383-b001-d0d81df50869",
   "metadata": {},
   "source": [
    "<center><h1>Nvidia's End-to-End Deep Learning for Self-Driving Cars</h1></center>"
   ]
  },
  {
   "cell_type": "code",
   "execution_count": 51,
   "id": "4c9a7d6d-5cad-4af6-9aad-88675dde4677",
   "metadata": {},
   "outputs": [],
   "source": [
    "import numpy as np\n",
    "import matplotlib.pyplot as plt\n",
    "import seaborn as sns\n",
    "\n",
    "from cv2 import cv2\n",
    "from pathlib import Path\n",
    "\n",
    "from torch.utils.data import Dataset, DataLoader\n",
    "import torch\n",
    "\n",
    "from albumentations.pytorch.transforms import ToTensorV2"
   ]
  },
  {
   "cell_type": "code",
   "execution_count": 16,
   "id": "008fa3a1-da86-4310-931e-4be6f76fed74",
   "metadata": {},
   "outputs": [],
   "source": [
    "root = Path(\"./driving_dataset/\")"
   ]
  },
  {
   "cell_type": "code",
   "execution_count": 17,
   "id": "e68d79ed-8067-4175-8743-1818fec01560",
   "metadata": {},
   "outputs": [],
   "source": [
    "all_paths_gen = root.glob(\"*\")"
   ]
  },
  {
   "cell_type": "code",
   "execution_count": 18,
   "id": "24887a9e-81e8-4bb5-b9b3-3036c6a29c15",
   "metadata": {},
   "outputs": [],
   "source": [
    "all_paths = list(all_paths_gen)"
   ]
  },
  {
   "cell_type": "code",
   "execution_count": 19,
   "id": "0aa3c793-2d07-487a-808b-b86ec18b0b9e",
   "metadata": {},
   "outputs": [],
   "source": [
    "label_path = \"./driving_dataset/data.txt\""
   ]
  },
  {
   "cell_type": "markdown",
   "id": "07c2050e-cd9b-4d0e-9f5c-d0b468612443",
   "metadata": {},
   "source": [
    "## Steering Dataset"
   ]
  },
  {
   "cell_type": "code",
   "execution_count": 61,
   "id": "46a96600-af6e-4908-af3f-22c53c088fb9",
   "metadata": {},
   "outputs": [],
   "source": [
    "class SteerDataset(Dataset):\n",
    "    \"\"\"\n",
    "    Dataset to read images and corresponding steering angles.\n",
    "    \"\"\"\n",
    "    def __init__(\n",
    "        self, \n",
    "        label_path='./driving_dataset/data.txt',\n",
    "        transforms=None\n",
    "    ):\n",
    "        self.paths, self.angles = self.get_images_angles(label_path)\n",
    "        self.transforms = transforms\n",
    "        \n",
    "    def get_images_angles(self, label_path):\n",
    "        paths, angles = [], []\n",
    "        with open(label_path, \"r\") as f:\n",
    "            for line in f.readlines():\n",
    "                image, angle = line.split(\" \")\n",
    "                full_path = f\"./driving_dataset/{image}\"\n",
    "                paths.append(full_path)\n",
    "                angles.append(float(angle))\n",
    "                \n",
    "        return paths, angles\n",
    "                \n",
    "    def __getitem__(self, idx):\n",
    "        image = cv2.imread(self.paths[idx])\n",
    "        angle = self.angles[idx]\n",
    "        \n",
    "        # Apply transforms\n",
    "        if self.transforms is not None:\n",
    "            transformed_image = self.transforms(image=image)\n",
    "            image = transformed_image['image']\n",
    "            \n",
    "        # Convert image to torch.tensor\n",
    "        image_transform = ToTensorV2()(image=image)\n",
    "        image = image_transform['image']\n",
    "        \n",
    "        # Convert angle into a torch.tensor\n",
    "        angle = torch.tensor(angle, dtype=torch.float32)\n",
    "        \n",
    "        return {\n",
    "            \"image\": image,\n",
    "            \"angle\": angle\n",
    "        }\n",
    "    \n",
    "    def __len__(self):\n",
    "        return len(self.paths)"
   ]
  },
  {
   "cell_type": "code",
   "execution_count": 56,
   "id": "5c3992c1-e87a-42ce-9fef-5679682962b8",
   "metadata": {},
   "outputs": [],
   "source": [
    "ds = SteerDataset()"
   ]
  },
  {
   "cell_type": "code",
   "execution_count": 59,
   "id": "b96422d3-88a7-4c76-b4da-64c308817ffc",
   "metadata": {},
   "outputs": [
    {
     "data": {
      "text/plain": [
       "{'image': tensor([[[168, 171, 170,  ..., 205, 205, 206],\n",
       "          [169, 170, 165,  ..., 202, 182, 209],\n",
       "          [169, 171, 165,  ..., 197, 212, 207],\n",
       "          ...,\n",
       "          [ 63,  59,  68,  ...,  61,  72,  67],\n",
       "          [ 54,  76,  66,  ...,  57,  63,  73],\n",
       "          [ 63,  65,  69,  ...,  62,  60,  59]],\n",
       " \n",
       "         [[167, 173, 177,  ..., 220, 214, 202],\n",
       "          [170, 174, 174,  ..., 221, 194, 212],\n",
       "          [173, 178, 176,  ..., 223, 233, 219],\n",
       "          ...,\n",
       "          [ 67,  61,  68,  ...,  56,  68,  63],\n",
       "          [ 55,  76,  58,  ...,  63,  68,  72],\n",
       "          [ 63,  61,  61,  ...,  73,  73,  59]],\n",
       " \n",
       "         [[193, 197, 196,  ..., 223, 218, 207],\n",
       "          [191, 193, 188,  ..., 224, 196, 216],\n",
       "          [184, 187, 184,  ..., 223, 231, 219],\n",
       "          ...,\n",
       "          [ 86,  79,  82,  ...,  58,  73,  68],\n",
       "          [ 69,  88,  68,  ...,  62,  69,  74],\n",
       "          [ 75,  72,  68,  ...,  71,  71,  59]]], dtype=torch.uint8),\n",
       " 'angle': tensor(2.1200)}"
      ]
     },
     "execution_count": 59,
     "metadata": {},
     "output_type": "execute_result"
    }
   ],
   "source": [
    "ds[100]"
   ]
  },
  {
   "cell_type": "code",
   "execution_count": null,
   "id": "9ef4d81a-1625-4350-a1db-33f5517a1b99",
   "metadata": {},
   "outputs": [],
   "source": []
  },
  {
   "cell_type": "code",
   "execution_count": null,
   "id": "22246196-6cd2-4e0c-81ca-8dcdb4f9083c",
   "metadata": {},
   "outputs": [],
   "source": []
  }
 ],
 "metadata": {
  "kernelspec": {
   "display_name": "Python 3 (ipykernel)",
   "language": "python",
   "name": "python3"
  },
  "language_info": {
   "codemirror_mode": {
    "name": "ipython",
    "version": 3
   },
   "file_extension": ".py",
   "mimetype": "text/x-python",
   "name": "python",
   "nbconvert_exporter": "python",
   "pygments_lexer": "ipython3",
   "version": "3.9.7"
  }
 },
 "nbformat": 4,
 "nbformat_minor": 5
}
