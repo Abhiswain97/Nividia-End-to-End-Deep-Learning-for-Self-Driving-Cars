{
 "cells": [
  {
   "cell_type": "markdown",
   "id": "92f334ff-3704-4383-b001-d0d81df50869",
   "metadata": {},
   "source": [
    "<center><h1>Nvidia's End-to-End Deep Learning for Self-Driving Cars</h1></center>"
   ]
  },
  {
   "cell_type": "code",
   "execution_count": null,
   "id": "4c9a7d6d-5cad-4af6-9aad-88675dde4677",
   "metadata": {},
   "outputs": [],
   "source": [
    "import numpy as np\n",
    "import pandas as pd\n",
    "import seaborn as sns\n",
    "import matplotlib.pyplot as plt\n",
    "from pathlib import Path\n",
    "from cv2 import cv2\n",
    "from tqdm.auto import tqdm\n",
    "from math import pi\n",
    "\n",
    "import torch\n",
    "from torch.utils.data import Dataset, DataLoader, Subset\n",
    "import torch.nn as nn\n",
    "import torch.optim as optim\n",
    "import torch.nn.functional as F\n",
    "\n",
    "import torchmetrics\n",
    "\n",
    "import pytorch_lightning as pl\n",
    "from pytorch_lightning.callbacks import ModelCheckpoint, EarlyStopping\n",
    "\n",
    "import albumentations as A\n",
    "from albumentations.pytorch.transforms import ToTensorV2"
   ]
  },
  {
   "cell_type": "markdown",
   "id": "f95365a9",
   "metadata": {},
   "source": [
    "## Configs"
   ]
  },
  {
   "cell_type": "code",
   "execution_count": null,
   "id": "c322b423-a119-4c1e-be70-a2b29f43c3bb",
   "metadata": {},
   "outputs": [],
   "source": [
    "class Config:\n",
    "    BATCH_SIZE = 80\n",
    "    EPOCHS = 80\n",
    "    IMG_HEIGHT = 66\n",
    "    IMG_WIDTH = 200\n",
    "    workers = 0\n",
    "    label_path = \"./driving_dataset/data.txt\""
   ]
  },
  {
   "cell_type": "markdown",
   "id": "07c2050e-cd9b-4d0e-9f5c-d0b468612443",
   "metadata": {},
   "source": [
    "## Steering Dataset"
   ]
  },
  {
   "cell_type": "code",
   "execution_count": null,
   "id": "46a96600-af6e-4908-af3f-22c53c088fb9",
   "metadata": {},
   "outputs": [],
   "source": [
    "class SteerDataset(Dataset):\n",
    "    \"\"\"\n",
    "    Dataset to read images and corresponding steering angles.\n",
    "    \"\"\"\n",
    "    def __init__(self, paths, angles, transforms=None):\n",
    "        self.paths, self.angles = paths, angles\n",
    "        self.transforms = transforms\n",
    "\n",
    "    def __getitem__(self, idx):\n",
    "        image = cv2.imread(self.paths[idx])\n",
    "        angle = self.angles[idx]\n",
    "        \n",
    "        # Apply transforms\n",
    "        if self.transforms is not None:\n",
    "            transformed_image = self.transforms(image=image)\n",
    "            image = transformed_image['image']\n",
    "            \n",
    "        # Convert image to torch.tensor\n",
    "        image_transform = ToTensorV2()(image=image)\n",
    "        image = image_transform['image']\n",
    "        \n",
    "        # Convert angle into a torch.tensor\n",
    "        angle = torch.tensor(angle, dtype=torch.float32)\n",
    "        \n",
    "        return {\n",
    "            \"image\": image,\n",
    "            \"angle\": angle\n",
    "        }\n",
    "    \n",
    "    def __len__(self):\n",
    "        return len(self.paths)"
   ]
  },
  {
   "cell_type": "markdown",
   "id": "22a73d2b-992c-49dd-8c0c-7992acbe1aff",
   "metadata": {},
   "source": [
    "## Datamodule"
   ]
  },
  {
   "cell_type": "code",
   "execution_count": null,
   "id": "22246196-6cd2-4e0c-81ca-8dcdb4f9083c",
   "metadata": {},
   "outputs": [],
   "source": [
    "class SteerDataModule(pl.LightningDataModule):\n",
    "    def __init__(self, label_path):\n",
    "        super().__init__()\n",
    "        \n",
    "        self.label_path = label_path\n",
    "        \n",
    "        self.train_paths = []\n",
    "        self.train_angles = []\n",
    "        \n",
    "        self.test_paths = []\n",
    "        self.test_angles = []\n",
    "        \n",
    "        # Train & Test transforms\n",
    "        self.tfms = {\n",
    "            \"train\": A.Compose(\n",
    "                [\n",
    "                    A.Resize(\n",
    "                        width=Config.IMG_WIDTH, \n",
    "                        height=Config.IMG_HEIGHT\n",
    "                    ),\n",
    "                    A.HorizontalFlip(p=0.5),\n",
    "                    A.Rotate(),\n",
    "                    A.RandomBrightnessContrast(),\n",
    "                    A.Normalize()\n",
    "                ]\n",
    "            ),\n",
    "            \"test\": A.Resize(\n",
    "                width=Config.IMG_WIDTH, \n",
    "                height=Config.IMG_HEIGHT\n",
    "            )\n",
    "        }\n",
    "        \n",
    "    def prepare_data(self):\n",
    "        paths, angles = [], []\n",
    "        \n",
    "        with open(self.label_path, \"r\") as f:\n",
    "            for line in f.readlines():\n",
    "                image, angle = line.split(\" \")\n",
    "                full_path = f\"./driving_dataset/{image}\"\n",
    "                paths.append(full_path)\n",
    "                \n",
    "                # Convert from degree to radians to have smaller nuumbers\n",
    "                angles.append(float(angle) * pi/180) \n",
    "        \n",
    "        total_len = len(paths)\n",
    "        split = int(0.8 * total_len)\n",
    "        \n",
    "        self.train_paths = paths[:split]\n",
    "        self.train_angles = angles[:split]\n",
    "        \n",
    "        self.test_paths = paths[split:]\n",
    "        self.test_angles = angles[split:]\n",
    "                    \n",
    "    def setup(self, stage) -> None:\n",
    "        if stage in (\"fit\", None):\n",
    "            \n",
    "            # Splitting train dataset into train and validation datasets\n",
    "            ds = SteerDataset(\n",
    "                paths=self.train_paths, \n",
    "                angles=self.train_angles, \n",
    "                transforms=self.tfms['train']\n",
    "            )\n",
    "            split = int(len(ds) * 0.8)\n",
    "            train_idxs = list(range(0, split))\n",
    "            val_idxs = list(range(split, len(ds)))    \n",
    "            self.train_data = Subset(dataset=ds, indices=train_idxs)\n",
    "            self.val_data = Subset(dataset=ds, indices=val_idxs)\n",
    "            \n",
    "        if stage in (\"test\", None):\n",
    "            self.test_data = SteerDataset(\n",
    "                paths=self.test_paths, \n",
    "                angles=self.test_angles, \n",
    "                transforms=self.tfms['test'] \n",
    "            )\n",
    "            \n",
    "    def train_dataloader(self):\n",
    "        return DataLoader(self.train_data, batch_size=Config.BATCH_SIZE, num_workers=Config.workers)\n",
    "\n",
    "    def val_dataloader(self):\n",
    "        return DataLoader(self.val_data, batch_size=Config.BATCH_SIZE, num_workers=Config.workers)\n",
    "    \n",
    "    def test_dataloader(self):\n",
    "        return DataLoader(self.test_data, batch_size=Config.BATCH_SIZE, num_workers=Config.workers)"
   ]
  },
  {
   "cell_type": "markdown",
   "id": "769420ed",
   "metadata": {},
   "source": [
    "## Basic EDA"
   ]
  },
  {
   "cell_type": "code",
   "execution_count": null,
   "id": "df50ff10",
   "metadata": {},
   "outputs": [],
   "source": [
    "dm_ = SteerDataModule(label_path=Config.label_path)\n",
    "dm_.prepare_data()\n",
    "dm_.setup(\"fit\")\n",
    "dm_.setup(\"test\")"
   ]
  },
  {
   "cell_type": "code",
   "execution_count": null,
   "id": "804c6215",
   "metadata": {},
   "outputs": [],
   "source": [
    "plt.hist(dm_.train_angles, density=True, bins=50, color='green', histtype='step')\n",
    "plt.hist(dm_.test_angles, density=True, bins=50, color='red', histtype='step')\n",
    "plt.show()"
   ]
  },
  {
   "cell_type": "markdown",
   "id": "1ed54ddc-2a49-4f39-a557-28693045f45a",
   "metadata": {},
   "source": [
    "*Obvservation*\n",
    "- The train and test steering angles do not overlap but they almost follow the same distribution\n",
    "- Most of the values fall between -2 to 2 radians\n",
    "- Maximum values are 0 radians"
   ]
  },
  {
   "cell_type": "markdown",
   "id": "9ad03941",
   "metadata": {},
   "source": [
    "## Baseline model: mean model"
   ]
  },
  {
   "cell_type": "code",
   "execution_count": null,
   "id": "145030ff",
   "metadata": {},
   "outputs": [],
   "source": [
    "train_angles = np.array(dm_.train_angles)\n",
    "test_angles = np.array(dm_.test_angles)"
   ]
  },
  {
   "cell_type": "code",
   "execution_count": null,
   "id": "a30e5bd3",
   "metadata": {},
   "outputs": [],
   "source": [
    "print(f\"TEST MSE (mean model): {np.mean(np.square(test_angles - train_angles.mean()))}\")\n",
    "print(f\"TEST MSE (zero model): {np.mean(np.square(test_angles - 0))}\")"
   ]
  },
  {
   "cell_type": "markdown",
   "id": "351f3613",
   "metadata": {},
   "source": [
    "The mean model being our baseline, has a MSE of 0.1911.\n",
    "Any model we build should have a MSE of less than this to be of any use to us"
   ]
  },
  {
   "cell_type": "markdown",
   "id": "bfb400e0",
   "metadata": {},
   "source": [
    "## Autopilot model"
   ]
  },
  {
   "attachments": {
    "model-achitecture.png": {
     "image/png": "[encoded data removed]"
    }
   },
   "cell_type": "markdown",
   "id": "44feaca5",
   "metadata": {},
   "source": [
    "![model-achitecture.png](attachment:model-achitecture.png)"
   ]
  },
  {
   "cell_type": "code",
   "execution_count": null,
   "id": "628558cc",
   "metadata": {},
   "outputs": [],
   "source": [
    "class Autopilot(nn.Module):\n",
    "    def __init__(self):\n",
    "        super(Autopilot, self).__init__()\n",
    "        \n",
    "        self.conv1 = nn.Conv2d(\n",
    "            in_channels=3, \n",
    "            out_channels=24, \n",
    "            kernel_size=5,\n",
    "            stride=2\n",
    "        )\n",
    "        self.conv2 = nn.Conv2d(\n",
    "            in_channels=24, \n",
    "            out_channels=36, \n",
    "            kernel_size=5,\n",
    "            stride=2\n",
    "        )\n",
    "        self.conv3 = nn.Conv2d(\n",
    "            in_channels=36, \n",
    "            out_channels=48, \n",
    "            kernel_size=5,\n",
    "            stride=2\n",
    "        )\n",
    "        self.conv4 = nn.Conv2d(\n",
    "            in_channels=48, \n",
    "            out_channels=64, \n",
    "            kernel_size=3\n",
    "        )\n",
    "        self.conv5 = nn.Conv2d(\n",
    "            in_channels=64, \n",
    "            out_channels=64, \n",
    "            kernel_size=3\n",
    "        )\n",
    "        self.fc1= nn.Linear(\n",
    "            in_features=1152,\n",
    "            out_features=100\n",
    "        )\n",
    "        self.fc2= nn.Linear(\n",
    "            in_features=100,\n",
    "            out_features=50\n",
    "        )\n",
    "        self.fc3= nn.Linear(\n",
    "            in_features=50,\n",
    "            out_features=10\n",
    "        )\n",
    "        self.fc4= nn.Linear(\n",
    "            in_features=10,\n",
    "            out_features=1\n",
    "        )\n",
    "        \n",
    "    def forward(self, x):\n",
    "        \n",
    "        x = F.elu(self.conv1(x))\n",
    "        x = F.elu(self.conv2(x))\n",
    "        x = F.elu(self.conv3(x))\n",
    "        x = F.elu(self.conv4(x))\n",
    "        x = F.elu(self.conv5(x))\n",
    "        \n",
    "        x = F.dropout(x, p=0.5)\n",
    "        x = torch.flatten(x, 1)\n",
    "        \n",
    "        x = F.elu(self.fc1(x))\n",
    "        x = F.elu(self.fc2(x))\n",
    "        x = F.elu(self.fc3(x))\n",
    "        x = self.fc4(x)\n",
    "        \n",
    "        return x"
   ]
  },
  {
   "cell_type": "markdown",
   "id": "20c72769",
   "metadata": {},
   "source": [
    "## Lightning Module"
   ]
  },
  {
   "cell_type": "code",
   "execution_count": null,
   "id": "f7a73aaf",
   "metadata": {},
   "outputs": [],
   "source": [
    "class SteerLitModel(pl.LightningModule):\n",
    "    def __init__(self):\n",
    "        super(SteerLitModel, self).__init__()\n",
    "        self.model = Autopilot()\n",
    "        self.loss = nn.MSELoss()\n",
    "\n",
    "    def configure_optimizers(self):\n",
    "        # Adam with L2 regularization\n",
    "        return optim.Adam(self.model.parameters(), lr=1e-4, weight_decay=1e-5)\n",
    "\n",
    "    def forward(self, images):\n",
    "        return self.model(images)\n",
    "\n",
    "    def training_step(self, batch, batch_idx):\n",
    "        images = batch[\"image\"]\n",
    "        labels = batch[\"angle\"]\n",
    "                \n",
    "        preds = self.forward(images)\n",
    "        loss = self.loss(input=preds, target=labels.unsqueeze(-1))\n",
    "\n",
    "        self.log(\"train_MSE\", loss, prog_bar=True)\n",
    "\n",
    "        return loss\n",
    "\n",
    "    def validation_step(self, batch, batch_idx):\n",
    "        images = batch[\"image\"]\n",
    "        labels = batch[\"angle\"]\n",
    "        \n",
    "        preds = self.forward(images)\n",
    "        loss = self.loss(input=preds, target=labels.unsqueeze(-1))\n",
    "\n",
    "        self.log(\"val_MSE\", loss, prog_bar=True)\n",
    "\n",
    "        return loss    "
   ]
  },
  {
   "cell_type": "markdown",
   "id": "3f791327",
   "metadata": {},
   "source": [
    "## Putting it all together"
   ]
  },
  {
   "cell_type": "code",
   "execution_count": null,
   "id": "6781eeb8-c382-41da-84fc-25a086d53426",
   "metadata": {},
   "outputs": [],
   "source": [
    "Autopilot()"
   ]
  },
  {
   "cell_type": "code",
   "execution_count": null,
   "id": "2beeb6ff",
   "metadata": {
    "scrolled": false
   },
   "outputs": [],
   "source": [
    "dm = SteerDataModule(label_path=Config.label_path)\n",
    "model = SteerLitModel()\n",
    "\n",
    "checkpoint_callback = ModelCheckpoint(\n",
    "    dirpath=\"./models\", \n",
    "    monitor=\"val_MSE\", \n",
    "    mode=\"min\", \n",
    "    verbose=True,\n",
    "    save_top_k=5,\n",
    "    filename='{epoch}-{val_MSE:.6f}'\n",
    ")\n",
    "\n",
    "early_stop_callback = EarlyStopping(\n",
    "    monitor=\"val_MSE\", \n",
    "    min_delta=0.00, \n",
    "    patience=5, \n",
    "    verbose=True, \n",
    "    mode=\"min\"\n",
    ")\n",
    "\n",
    "trainer = pl.Trainer(\n",
    "    logger=True,\n",
    "    max_epochs=Config.EPOCHS,\n",
    "    accelerator=\"auto\", \n",
    "    callbacks=[early_stop_callback,checkpoint_callback],\n",
    ")\n",
    "\n",
    "trainer.fit(model, datamodule=dm)"
   ]
  }
 ],
 "metadata": {
  "kernelspec": {
   "display_name": "Python 3 (ipykernel)",
   "language": "python",
   "name": "python3"
  },
  "language_info": {
   "codemirror_mode": {
    "name": "ipython",
    "version": 3
   },
   "file_extension": ".py",
   "mimetype": "text/x-python",
   "name": "python",
   "nbconvert_exporter": "python",
   "pygments_lexer": "ipython3",
   "version": "3.9.7"
  },
  "toc": {
   "base_numbering": 1,
   "nav_menu": {},
   "number_sections": true,
   "sideBar": true,
   "skip_h1_title": false,
   "title_cell": "Table of Contents",
   "title_sidebar": "Contents",
   "toc_cell": false,
   "toc_position": {
    "height": "calc(100% - 180px)",
    "left": "10px",
    "top": "150px",
    "width": "250.6px"
   },
   "toc_section_display": true,
   "toc_window_display": true
  }
 },
 "nbformat": 4,
 "nbformat_minor": 5
}
