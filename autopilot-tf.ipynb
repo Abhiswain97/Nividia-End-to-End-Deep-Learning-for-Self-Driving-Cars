{
 "cells": [
  {
   "cell_type": "code",
   "execution_count": 2,
   "id": "ff6a10a6-6832-4e62-9605-ab8d910c286a",
   "metadata": {},
   "outputs": [],
   "source": [
    "from math import pi\n",
    "\n",
    "import matplotlib.pyplot as plt\n",
    "import numpy as np\n",
    "import pandas as pd\n",
    "\n",
    "from PIL import Image\n",
    "\n",
    "import tensorflow as tf\n",
    "from tensorflow.keras import Sequential, activations, losses, metrics, optimizers\n",
    "from tensorflow.keras.layers import Conv2D, Dense, Dropout, Flatten, Lambda, BatchNormalization\n",
    "from tensorflow.keras.preprocessing.image import ImageDataGenerator"
   ]
  },
  {
   "cell_type": "markdown",
   "id": "eb9adf99-e3c2-4817-9a25-f8915f47727b",
   "metadata": {},
   "source": [
    "## Creating the `tf.data.Dataset`"
   ]
  },
  {
   "cell_type": "code",
   "execution_count": 3,
   "id": "c3847482-1449-4fd4-afdc-b36d60fad577",
   "metadata": {},
   "outputs": [],
   "source": [
    "angles, paths = [], []\n",
    "train_angles, train_paths = [], []\n",
    "test_angles, test_paths = [], []\n",
    "\n",
    "with open(\"./driving_dataset/data.txt\", \"r\") as f:\n",
    "    for line in f.readlines():\n",
    "        image, angle = line.split(\" \")\n",
    "        full_path = f\"C:/Users/abhi0/Desktop/autopilot-pytorch/driving_dataset/{image}\"\n",
    "        paths.append(full_path)\n",
    "        angles.append(float(angle) * (np.pi / 180))\n",
    "\n",
    "# Splitting into train/test\n",
    "total_len = len(paths)\n",
    "split = int(0.8 * total_len)\n",
    "\n",
    "train_paths = paths[:split]\n",
    "train_angles = angles[:split]\n",
    "\n",
    "test_paths = paths[split:]\n",
    "test_angles = angles[split:]"
   ]
  },
  {
   "cell_type": "markdown",
   "id": "6ff82092-173f-4863-adad-bb1916ff8fb1",
   "metadata": {},
   "source": [
    "## Train and test data Dataframes"
   ]
  },
  {
   "cell_type": "code",
   "execution_count": 4,
   "id": "888cbc50-b3a9-48e2-9f13-1ddd020b3a90",
   "metadata": {},
   "outputs": [],
   "source": [
    "train_df = pd.DataFrame({\"image_paths\": train_paths, \"angles\": train_angles})\n",
    "test_df = pd.DataFrame({\"image_paths\": test_paths, \"angles\": test_angles})"
   ]
  },
  {
   "cell_type": "code",
   "execution_count": 5,
   "id": "e8568f94",
   "metadata": {},
   "outputs": [
    {
     "data": {
      "text/html": [
       "<div>\n",
       "<style scoped>\n",
       "    .dataframe tbody tr th:only-of-type {\n",
       "        vertical-align: middle;\n",
       "    }\n",
       "\n",
       "    .dataframe tbody tr th {\n",
       "        vertical-align: top;\n",
       "    }\n",
       "\n",
       "    .dataframe thead th {\n",
       "        text-align: right;\n",
       "    }\n",
       "</style>\n",
       "<table border=\"1\" class=\"dataframe\">\n",
       "  <thead>\n",
       "    <tr style=\"text-align: right;\">\n",
       "      <th></th>\n",
       "      <th>image_paths</th>\n",
       "      <th>angles</th>\n",
       "    </tr>\n",
       "  </thead>\n",
       "  <tbody>\n",
       "    <tr>\n",
       "      <th>0</th>\n",
       "      <td>C:/Users/abhi0/Desktop/autopilot-pytorch/drivi...</td>\n",
       "      <td>0.0</td>\n",
       "    </tr>\n",
       "    <tr>\n",
       "      <th>1</th>\n",
       "      <td>C:/Users/abhi0/Desktop/autopilot-pytorch/drivi...</td>\n",
       "      <td>0.0</td>\n",
       "    </tr>\n",
       "    <tr>\n",
       "      <th>2</th>\n",
       "      <td>C:/Users/abhi0/Desktop/autopilot-pytorch/drivi...</td>\n",
       "      <td>0.0</td>\n",
       "    </tr>\n",
       "    <tr>\n",
       "      <th>3</th>\n",
       "      <td>C:/Users/abhi0/Desktop/autopilot-pytorch/drivi...</td>\n",
       "      <td>0.0</td>\n",
       "    </tr>\n",
       "    <tr>\n",
       "      <th>4</th>\n",
       "      <td>C:/Users/abhi0/Desktop/autopilot-pytorch/drivi...</td>\n",
       "      <td>0.0</td>\n",
       "    </tr>\n",
       "  </tbody>\n",
       "</table>\n",
       "</div>"
      ],
      "text/plain": [
       "                                         image_paths  angles\n",
       "0  C:/Users/abhi0/Desktop/autopilot-pytorch/drivi...     0.0\n",
       "1  C:/Users/abhi0/Desktop/autopilot-pytorch/drivi...     0.0\n",
       "2  C:/Users/abhi0/Desktop/autopilot-pytorch/drivi...     0.0\n",
       "3  C:/Users/abhi0/Desktop/autopilot-pytorch/drivi...     0.0\n",
       "4  C:/Users/abhi0/Desktop/autopilot-pytorch/drivi...     0.0"
      ]
     },
     "execution_count": 5,
     "metadata": {},
     "output_type": "execute_result"
    }
   ],
   "source": [
    "train_df.head()"
   ]
  },
  {
   "cell_type": "code",
   "execution_count": 6,
   "id": "2af34d51",
   "metadata": {},
   "outputs": [
    {
     "data": {
      "text/html": [
       "<div>\n",
       "<style scoped>\n",
       "    .dataframe tbody tr th:only-of-type {\n",
       "        vertical-align: middle;\n",
       "    }\n",
       "\n",
       "    .dataframe tbody tr th {\n",
       "        vertical-align: top;\n",
       "    }\n",
       "\n",
       "    .dataframe thead th {\n",
       "        text-align: right;\n",
       "    }\n",
       "</style>\n",
       "<table border=\"1\" class=\"dataframe\">\n",
       "  <thead>\n",
       "    <tr style=\"text-align: right;\">\n",
       "      <th></th>\n",
       "      <th>image_paths</th>\n",
       "      <th>angles</th>\n",
       "    </tr>\n",
       "  </thead>\n",
       "  <tbody>\n",
       "    <tr>\n",
       "      <th>0</th>\n",
       "      <td>C:/Users/abhi0/Desktop/autopilot-pytorch/drivi...</td>\n",
       "      <td>-0.193557</td>\n",
       "    </tr>\n",
       "    <tr>\n",
       "      <th>1</th>\n",
       "      <td>C:/Users/abhi0/Desktop/autopilot-pytorch/drivi...</td>\n",
       "      <td>-0.188321</td>\n",
       "    </tr>\n",
       "    <tr>\n",
       "      <th>2</th>\n",
       "      <td>C:/Users/abhi0/Desktop/autopilot-pytorch/drivi...</td>\n",
       "      <td>-0.175929</td>\n",
       "    </tr>\n",
       "    <tr>\n",
       "      <th>3</th>\n",
       "      <td>C:/Users/abhi0/Desktop/autopilot-pytorch/drivi...</td>\n",
       "      <td>-0.163712</td>\n",
       "    </tr>\n",
       "    <tr>\n",
       "      <th>4</th>\n",
       "      <td>C:/Users/abhi0/Desktop/autopilot-pytorch/drivi...</td>\n",
       "      <td>-0.131947</td>\n",
       "    </tr>\n",
       "  </tbody>\n",
       "</table>\n",
       "</div>"
      ],
      "text/plain": [
       "                                         image_paths    angles\n",
       "0  C:/Users/abhi0/Desktop/autopilot-pytorch/drivi... -0.193557\n",
       "1  C:/Users/abhi0/Desktop/autopilot-pytorch/drivi... -0.188321\n",
       "2  C:/Users/abhi0/Desktop/autopilot-pytorch/drivi... -0.175929\n",
       "3  C:/Users/abhi0/Desktop/autopilot-pytorch/drivi... -0.163712\n",
       "4  C:/Users/abhi0/Desktop/autopilot-pytorch/drivi... -0.131947"
      ]
     },
     "execution_count": 6,
     "metadata": {},
     "output_type": "execute_result"
    }
   ],
   "source": [
    "test_df.head()"
   ]
  },
  {
   "cell_type": "markdown",
   "id": "e446ca7a-2439-4794-bc3b-eba002a0b32a",
   "metadata": {},
   "source": [
    "## Datagenerators"
   ]
  },
  {
   "cell_type": "code",
   "execution_count": 7,
   "id": "c60ef4ea-19a0-48ec-8c17-c7c23696e1f1",
   "metadata": {},
   "outputs": [],
   "source": [
    "train_data_gen = ImageDataGenerator(\n",
    "    horizontal_flip=True,\n",
    "    rotation_range=90,\n",
    "    validation_split=0.15\n",
    ")\n",
    "test_data_gen = ImageDataGenerator()"
   ]
  },
  {
   "cell_type": "code",
   "execution_count": 8,
   "id": "8205fbe9-2a85-4291-8fa3-f3b89635179a",
   "metadata": {},
   "outputs": [
    {
     "name": "stdout",
     "output_type": "stream",
     "text": [
      "Found 30876 validated image filenames.\n",
      "Found 5448 validated image filenames.\n"
     ]
    }
   ],
   "source": [
    "# Train and validation generators\n",
    "\n",
    "train_gen = train_data_gen.flow_from_dataframe(\n",
    "    dataframe=train_df,\n",
    "    x_col=\"image_paths\",\n",
    "    y_col=\"angles\",\n",
    "    class_mode=\"raw\",\n",
    "    target_size=(66, 200),\n",
    "    subset=\"training\",\n",
    "    batch_size=32,\n",
    ")\n",
    "val_gen = train_data_gen.flow_from_dataframe(\n",
    "    dataframe=train_df,\n",
    "    x_col=\"image_paths\",\n",
    "    y_col=\"angles\",\n",
    "    class_mode=\"raw\",\n",
    "    target_size=(66, 200),\n",
    "    subset=\"validation\",\n",
    "    batch_size=32,\n",
    ")"
   ]
  },
  {
   "cell_type": "markdown",
   "id": "c823d8f2-5692-4c94-9321-3de7555f6fb2",
   "metadata": {},
   "source": [
    "## tf Datasets"
   ]
  },
  {
   "cell_type": "code",
   "execution_count": 9,
   "id": "d93fe0b7-5d71-4738-8782-d72e77867b48",
   "metadata": {},
   "outputs": [],
   "source": [
    "# Train and validation tf datasets\n",
    "\n",
    "train_ds = tf.data.Dataset.from_generator(\n",
    "    generator=lambda: train_gen,\n",
    "    output_types=(tf.float32, tf.float32),\n",
    "    output_shapes=([None, 66, 200, 3], [None]),\n",
    ")\n",
    "val_ds = tf.data.Dataset.from_generator(\n",
    "    generator=lambda: val_gen,\n",
    "    output_types=(tf.float32, tf.float32),\n",
    "    output_shapes=([None, 66, 200, 3], [None]),\n",
    ")"
   ]
  },
  {
   "cell_type": "code",
   "execution_count": 11,
   "id": "80fb37dd-36b1-4ed4-98ef-3b95712ce6f5",
   "metadata": {},
   "outputs": [],
   "source": [
    "train_steps_per_epoch = int(np.ceil(30876 / 32))\n",
    "val_steps_per_epoch = int(np.ceil(5448 / 32))"
   ]
  },
  {
   "cell_type": "markdown",
   "id": "35739b48-30b0-4e4b-b720-bef5970e9ce4",
   "metadata": {},
   "source": [
    "## Nvidia's Model"
   ]
  },
  {
   "cell_type": "code",
   "execution_count": 12,
   "id": "8c55566d-7bbe-4a02-a58e-88f6224ba0a2",
   "metadata": {},
   "outputs": [],
   "source": [
    "model = Sequential(\n",
    "    [\n",
    "        Conv2D(24, kernel_size=(5, 5), strides=(2, 2), activation=\"elu\"),\n",
    "        Conv2D(36, kernel_size=(5, 5), strides=(2, 2), activation=\"elu\"),\n",
    "        Conv2D(48, kernel_size=(5, 5), strides=(2, 2), activation=\"elu\"),\n",
    "        Conv2D(64, kernel_size=(3, 3), strides=(1, 1), activation=\"elu\"),\n",
    "        Conv2D(64, kernel_size=(3, 3), strides=(1, 1), activation=\"elu\"),\n",
    "        Dropout(0.5),\n",
    "        Flatten(),\n",
    "        Dense(units=100, activation=\"elu\"),\n",
    "        Dense(units=50),\n",
    "        Dense(units=10),\n",
    "        Dense(units=1),\n",
    "    ]\n",
    ")"
   ]
  },
  {
   "cell_type": "code",
   "execution_count": 13,
   "id": "b6f10e70-206c-426c-a91d-4c8781ace8e7",
   "metadata": {},
   "outputs": [
    {
     "name": "stdout",
     "output_type": "stream",
     "text": [
      "Model: \"sequential\"\n",
      "_________________________________________________________________\n",
      "Layer (type)                 Output Shape              Param #   \n",
      "=================================================================\n",
      "conv2d (Conv2D)              (1, 31, 98, 24)           1824      \n",
      "_________________________________________________________________\n",
      "conv2d_1 (Conv2D)            (1, 14, 47, 36)           21636     \n",
      "_________________________________________________________________\n",
      "conv2d_2 (Conv2D)            (1, 5, 22, 48)            43248     \n",
      "_________________________________________________________________\n",
      "conv2d_3 (Conv2D)            (1, 3, 20, 64)            27712     \n",
      "_________________________________________________________________\n",
      "conv2d_4 (Conv2D)            (1, 1, 18, 64)            36928     \n",
      "_________________________________________________________________\n",
      "dropout (Dropout)            (1, 1, 18, 64)            0         \n",
      "_________________________________________________________________\n",
      "flatten (Flatten)            (1, 1152)                 0         \n",
      "_________________________________________________________________\n",
      "dense (Dense)                (1, 100)                  115300    \n",
      "_________________________________________________________________\n",
      "dense_1 (Dense)              (1, 50)                   5050      \n",
      "_________________________________________________________________\n",
      "dense_2 (Dense)              (1, 10)                   510       \n",
      "_________________________________________________________________\n",
      "dense_3 (Dense)              (1, 1)                    11        \n",
      "=================================================================\n",
      "Total params: 252,219\n",
      "Trainable params: 252,219\n",
      "Non-trainable params: 0\n",
      "_________________________________________________________________\n"
     ]
    }
   ],
   "source": [
    "model.build(input_shape=(1, 66, 200, 3))\n",
    "model.summary()"
   ]
  },
  {
   "cell_type": "code",
   "execution_count": 14,
   "id": "c794149a-5420-4fb1-b245-664acb2a8e65",
   "metadata": {},
   "outputs": [],
   "source": [
    "model.compile(\n",
    "    optimizer=optimizers.Adam(learning_rate=5e-5),\n",
    "    loss=losses.MeanSquaredError(),\n",
    ")"
   ]
  },
  {
   "cell_type": "code",
   "execution_count": null,
   "id": "b1182bd4",
   "metadata": {},
   "outputs": [],
   "source": [
    "hist = model.fit(\n",
    "    train_gen,\n",
    "    steps_per_epoch=train_steps_per_epoch,\n",
    "    validation_data=val_gen,\n",
    "    validation_steps=val_steps_per_epoch,\n",
    "    epochs=30,\n",
    ")"
   ]
  },
  {
   "cell_type": "code",
   "execution_count": null,
   "id": "25dcd300",
   "metadata": {},
   "outputs": [],
   "source": []
  },
  {
   "cell_type": "code",
   "execution_count": null,
   "id": "37dffdf9",
   "metadata": {},
   "outputs": [],
   "source": []
  },
  {
   "cell_type": "code",
   "execution_count": null,
   "id": "71d96d58",
   "metadata": {},
   "outputs": [],
   "source": []
  },
  {
   "cell_type": "code",
   "execution_count": null,
   "id": "3869800d",
   "metadata": {},
   "outputs": [],
   "source": []
  }
 ],
 "metadata": {
  "kernelspec": {
   "display_name": "Python 3 (ipykernel)",
   "language": "python",
   "name": "python3"
  },
  "language_info": {
   "codemirror_mode": {
    "name": "ipython",
    "version": 3
   },
   "file_extension": ".py",
   "mimetype": "text/x-python",
   "name": "python",
   "nbconvert_exporter": "python",
   "pygments_lexer": "ipython3",
   "version": "3.9.12"
  },
  "toc": {
   "base_numbering": 1,
   "nav_menu": {},
   "number_sections": true,
   "sideBar": true,
   "skip_h1_title": false,
   "title_cell": "Table of Contents",
   "title_sidebar": "Contents",
   "toc_cell": false,
   "toc_position": {
    "height": "calc(100% - 180px)",
    "left": "10px",
    "top": "150px",
    "width": "238.6px"
   },
   "toc_section_display": true,
   "toc_window_display": true
  }
 },
 "nbformat": 4,
 "nbformat_minor": 5
}
